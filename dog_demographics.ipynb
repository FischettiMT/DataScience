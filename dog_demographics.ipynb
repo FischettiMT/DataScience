{
 "cells": [
  {
   "cell_type": "markdown",
   "metadata": {},
   "source": [
    "[Dog Demographics in US (2022/2023)](https://financesonline.com/number-of-dogs-in-the-us/)"
   ]
  },
  {
   "cell_type": "code",
   "execution_count": null,
   "metadata": {},
   "outputs": [],
   "source": [
    "import matplotlib.pyplot as plt\n",
    "\n",
    "year = [2008,2010,2012,2014,2016,2018]\n",
    "dogs = [77.5,78.2,83.3,77.8,89.7,90]   # millions of dogs in the United States of America\n",
    "\n",
    "plt.plot(year,dogs)    # plot is the default graph of a line chart\n",
    "plt.title(\"Number of Dogs in the USA\")\n",
    "plt.xlabel(\"Year\")\n",
    "plt.ylabel(\"Millions of Dogs\")\n",
    "\n",
    "plt.show()\n"
   ]
  },
  {
   "cell_type": "code",
   "execution_count": null,
   "metadata": {},
   "outputs": [],
   "source": [
    "import matplotlib.pyplot as plt\n",
    "\n",
    "year = [2008,2010,2012,2014,2016,2018]\n",
    "dogs = [77.5,78.2,83.3,77.8,89.7,90]   # millions of dogs in the United States of America\n",
    "\n",
    "plt.bar(year,dogs)\n",
    "plt.title(\"Number of Dogs in the USA\")\n",
    "plt.xlabel(\"Year\")\n",
    "plt.ylabel(\"Millions of Dogs\")\n",
    "\n",
    "plt.show()"
   ]
  },
  {
   "cell_type": "code",
   "execution_count": null,
   "metadata": {},
   "outputs": [],
   "source": [
    "import matplotlib.pyplot as plt\n",
    "\n",
    "year = [2008,2010,2012,2014,2016,2018]\n",
    "dogs = [77.5,78.2,83.3,77.8,89.7,90]   # millions of dogs in the United States of America\n",
    "\n",
    "plt.barh(year,dogs)\n",
    "plt.title(\"Number of Dogs in the USA\")\n",
    "plt.ylabel(\"Year\")\n",
    "plt.xlabel(\"Millions of Dogs\")\n",
    "\n",
    "plt.show()"
   ]
  }
 ],
 "metadata": {
  "kernelspec": {
   "display_name": "Python 3",
   "language": "python",
   "name": "python3"
  },
  "language_info": {
   "codemirror_mode": {
    "name": "ipython",
    "version": 3
   },
   "file_extension": ".py",
   "mimetype": "text/x-python",
   "name": "python",
   "nbconvert_exporter": "python",
   "pygments_lexer": "ipython3",
   "version": "3.9.6"
  },
  "orig_nbformat": 4
 },
 "nbformat": 4,
 "nbformat_minor": 2
}
